{
 "cells": [
  {
   "cell_type": "markdown",
   "id": "a6968ad4",
   "metadata": {},
   "source": [
    "<font size=4>\n",
    "\n",
    "### Practical example for quantum PCA\n",
    "\n",
    "> Ref: Quantum Algorithm Implementations for Beginners. arXiv:1804.03719.\n",
    "\n",
    "Suppose the following two features, number of bedrooms and square footage, corresponding to each of the 15 houses on sale\n",
    "\n",
    "$$\n",
    "\\begin{aligned}\n",
    "&X_{1}=(4,3,4,4,3,3,3,3,4,4,4,5,4,3,4) \\\\\n",
    "&X_{2}=(3028,1365,2726,2538,1318,1693,1412,1632,2875,3564,4412,4444,4278,3064,3857)\n",
    "\\end{aligned}\n",
    "$$\n",
    "\n",
    "1. Compute the covariance matrix.\n",
    "2. Design a quantum circuit to perform quantum PCA."
   ]
  },
  {
   "cell_type": "markdown",
   "id": "68a11405",
   "metadata": {},
   "source": [
    "<font size=4>\n",
    "(1) Dividing the square footage by 1000 and subtracting off the mean of both features, we have\n",
    "$$\n",
    "\\begin{aligned}\n",
    "&X_1 \\leftarrow X_1-\\mathbb{E}[X_1],\\\\\n",
    "&X_2 \\leftarrow \\frac{X_2-\\mathbb{E}[X_2]}{1000}.\n",
    "\\end{aligned}\n",
    "$$"
   ]
  },
  {
   "cell_type": "code",
   "execution_count": 2,
   "id": "fc88634c",
   "metadata": {},
   "outputs": [
    {
     "name": "stdout",
     "output_type": "stream",
     "text": [
      "The rescaled feature vectors are\n",
      "X_1 =  [ 0.33333333 -0.66666667  0.33333333  0.33333333 -0.66666667 -0.66666667\n",
      " -0.66666667 -0.66666667  0.33333333  0.33333333  0.33333333  1.33333333\n",
      "  0.33333333 -0.66666667  0.33333333]\n",
      "X_2 =  [ 0.21426667 -1.44873333 -0.08773333 -0.27573333 -1.49573333 -1.12073333\n",
      " -1.40173333 -1.18173333  0.06126667  0.75026667  1.59826667  1.63026667\n",
      "  1.46426667  0.25026667  1.04326667]\n"
     ]
    }
   ],
   "source": [
    "import numpy as np\n",
    "\n",
    "X_1 = [4,3,4,4,3,3,3,3,4,4,4,5,4,3,4]\n",
    "X_2 = [3028,1365,2726,2538,1318,1693,1412,1632,2875,3564,4412,4444,4278,3064,3857]\n",
    "X_1 = X_1 - np.average(X_1)\n",
    "X_2 = (X_2 - np.average(X_2)) / 1000\n",
    "print('The rescaled feature vectors are')\n",
    "print('X_1 = ', X_1)\n",
    "print('X_2 = ', X_2)"
   ]
  },
  {
   "cell_type": "markdown",
   "id": "f67f5375",
   "metadata": {},
   "source": [
    "<font size=4>\n",
    "Thus, the covariance matrix can be written as\n",
    "$$\n",
    "M=\\left(\\begin{array}{ll}\n",
    "\\mathbb{E}\\left[X_{1} X_{1}\\right] & \\mathbb{E}\\left[X_{1} X_{2}\\right] \\\\\n",
    "\\mathbb{E}\\left[X_{2} X_{1}\\right] & \\mathbb{E}\\left[X_{2} X_{2}\\right]\n",
    "\\end{array}\\right)\n",
    "=\\frac{1}{15-1}\\left(\\begin{array}{ll}\n",
    "X_1^T X_1 & X_1^T X_2 \\\\\n",
    "X_2^T X_1 & X_2^T X_2\n",
    "\\end{array}\\right).\n",
    "$$"
   ]
  },
  {
   "cell_type": "code",
   "execution_count": 3,
   "id": "1a2db157",
   "metadata": {},
   "outputs": [
    {
     "name": "stdout",
     "output_type": "stream",
     "text": [
      "The covariance matrix is M = \n",
      " [[0.38095238 0.57347619]\n",
      " [0.57347619 1.29693364]]\n"
     ]
    }
   ],
   "source": [
    "M=np.array([[np.dot(X_1,X_1),np.dot(X_1,X_2)],[np.dot(X_2,X_1),np.dot(X_2,X_2)]]) / (15-1)\n",
    "print('The covariance matrix is', 'M = \\n', M)"
   ]
  },
  {
   "cell_type": "markdown",
   "id": "6e6a6128",
   "metadata": {},
   "source": [
    "<font size=4>\n",
    "Note that we exploit the convention of $(n-1)$ rather than $n$ on the definition of the covariance matrix here."
   ]
  },
  {
   "cell_type": "markdown",
   "id": "33c8aff6",
   "metadata": {},
   "source": [
    "<font size=4>\n",
    "(2) To diagonalize $M$ using quantum PCA, we exploit a specific workflow as follows.\n",
    "\n",
    "1. Classical pre-processing. Normalize into density matrix.\n",
    "2. State preparation. Purify the density matrix into a pure state of enlarged system.\n",
    "3. Purity measurement. Hadamard test with the controlled-SWAP gate on two copies.\n",
    "4. Classical post-processing. Transform the purity to eigenvalues."
   ]
  },
  {
   "cell_type": "markdown",
   "id": "28370a5f",
   "metadata": {},
   "source": [
    "<font size=4>\n",
    "Step 1. Normalization.\n",
    "$$\n",
    "\\rho=\\frac{M}{\\operatorname{Tr}(M)}.\n",
    "$$"
   ]
  },
  {
   "cell_type": "code",
   "execution_count": 4,
   "id": "db1f3e42",
   "metadata": {
    "scrolled": true
   },
   "outputs": [
    {
     "name": "stdout",
     "output_type": "stream",
     "text": [
      "The density matrix is \n",
      " [[0.22704306 0.34178495]\n",
      " [0.34178495 0.77295694]]\n"
     ]
    }
   ],
   "source": [
    "rho = M / np.trace(M)\n",
    "print('The density matrix is \\n', rho)"
   ]
  },
  {
   "cell_type": "markdown",
   "id": "cb2fa390",
   "metadata": {},
   "source": [
    "<font size=4>\n",
    "Step 2. Purification. Rigorously, we should design a state preparation circuit for this purification. But here, we directly calculate it and focus on the quantum PCA process."
   ]
  },
  {
   "cell_type": "code",
   "execution_count": 5,
   "id": "da6e1717",
   "metadata": {},
   "outputs": [
    {
     "name": "stdout",
     "output_type": "stream",
     "text": [
      "The purified state is \n",
      " [-0.22545283 -0.41977861  0.10847494 -0.8724621 ]\n",
      "Verify the reduction to the original mixed state \n",
      " [[0.22704306 0.34178495]\n",
      " [0.34178495 0.77295694]]\n"
     ]
    }
   ],
   "source": [
    "rho_eig_val, rho_eig_vec = np.linalg.eig(rho)\n",
    "p_vec = np.concatenate((np.sqrt(rho_eig_val), np.sqrt(rho_eig_val)), axis=0)\n",
    "U_vec = rho_eig_vec.reshape((4))\n",
    "psi = p_vec * U_vec\n",
    "print('The purified state is \\n', psi)\n",
    "rho_partial_trace = np.dot(psi.reshape((2,2)),psi.reshape((2,2)).transpose())\n",
    "print('Verify the reduction to the original mixed state \\n', rho_partial_trace)"
   ]
  },
  {
   "cell_type": "markdown",
   "id": "18b16e03",
   "metadata": {},
   "source": [
    "<font size=4>\n",
    "Step 3. Purity measurement. Since the matrix is just $2\\times 2$, we can exploit a more efficient algorithm instead of the original exponential SWAP method, using only 5 qubits in total. \n",
    "\n",
    "Note that the degree of freedom of determining the eigenvalues of the single qubit density matrix is equal to 1, due to the unit trace condition. Thus, as long as we obtain the purity of the mixed state\n",
    "$$\n",
    "P=\\operatorname{Tr}(\\rho^2),\n",
    "$$\n",
    "we can determine the two eigenvalues $p_1,p_2$ by\n",
    "$$\n",
    "\\left\\{\\begin{aligned}\n",
    "&p_1^2+p_2^2= P \\\\\n",
    "&p_1 + p_2 = 1\n",
    "\\end{aligned}\\right\\}\n",
    "\\Leftrightarrow \n",
    "\\left\\{\\begin{aligned}\n",
    "&p_1p_2= (1-P)/2 \\\\\n",
    "&p_1 + p_2 = 1\n",
    "\\end{aligned}\\right\\}\n",
    "\\Leftrightarrow \n",
    "p_{1,2}=\\frac{1\\pm\\sqrt{2P-1}}{2}.\n",
    "$$"
   ]
  },
  {
   "cell_type": "markdown",
   "id": "79e59b34",
   "metadata": {},
   "source": [
    "<font size=4>\n",
    "The purity is equal to the expectation value of the SWAP gate between two purification copies. This can be verified directly as follows.\n",
    "$$\n",
    "\\begin{aligned}\n",
    "& \\rho=\\sum_i p_i \\left| a_i\\right\\rangle \\left\\langle a_i \\right|, \n",
    "\\left| \\psi \\right\\rangle=\\sum_i \\sqrt{p_i} \\left|a_i\\right\\rangle \\left| b_i \\right\\rangle \\\\\n",
    " \\Rightarrow& P=\\operatorname{Tr}(\\rho^2)=\\sum_i p_i^2, \\\\\n",
    "& \\left\\langle\\psi\\right| \\left\\langle\\psi\\right| \\operatorname{SWAP_a} \\left| \\psi \\right\\rangle \\left| \\psi \\right\\rangle\n",
    "= \\sum_{ij} \\left\\langle b_j\\right| \\left\\langle a_j\\right|  \\left\\langle b_i\\right| \\left\\langle a_i\\right|\n",
    "\\sqrt{p_ip_j}\\sqrt{p_ip_j} \n",
    "\\left|a_j\\right\\rangle \\left| b_i \\right\\rangle \\left|a_i\\right\\rangle \\left| b_j \\right\\rangle\n",
    "= \\sum_i p_i^2 \\\\\n",
    "\\Rightarrow & \\operatorname{Tr}(\\rho^2)=\\left\\langle\\psi\\right| \\left\\langle\\psi\\right| \\operatorname{SWAP_a} \\left| \\psi \\right\\rangle \\left| \\psi \\right\\rangle.\n",
    "\\end{aligned}\n",
    "$$\n",
    "\n",
    "Therefore, the purity can be measured using the Hadamard test on a controlled-SWAP gate. The corresponding circuit is shown below. \n",
    "\n",
    "> Quantum circuit of the 5-qubit quantum PCA. This picture is reprinted from arXiv:1804.03719."
   ]
  },
  {
   "cell_type": "markdown",
   "id": "8d52a00c",
   "metadata": {},
   "source": [
    "<font size=4>\n",
    "![Quantum circuit for the 5-qubit quantum PCA.](https://raw.githubusercontent.com/Haokai-Zhang/ExampleQPCA/master/qPCA_5qubits.png)"
   ]
  },
  {
   "cell_type": "markdown",
   "id": "241ffef3",
   "metadata": {},
   "source": [
    "<font size=4>\n",
    "We can use Qiskit to simulate this circuit."
   ]
  },
  {
   "cell_type": "code",
   "execution_count": 80,
   "id": "3b1f3ed1",
   "metadata": {},
   "outputs": [
    {
     "data": {
      "text/html": [
       "<pre style=\"word-wrap: normal;white-space: pre;background: #fff0;line-height: 1.1;font-family: &quot;Courier New&quot;,Courier,monospace\">                     ┌─────────────────┐                ┌───┐   ┌───┐┌─┐\n",
       "q_0: ────────────────┤ Initialize(1,0) ├────────────────┤ H ├─■─┤ H ├┤M├\n",
       "     ┌───────────────┴─────────────────┴───────────────┐└───┘ │ └───┘└╥┘\n",
       "q_1: ┤0                                                ├──────X───────╫─\n",
       "     │  Initialize(-0.22545,-0.41978,0.10847,-0.87246) │      │       ║ \n",
       "q_2: ┤1                                                ├──────┼───────╫─\n",
       "     ├─────────────────────────────────────────────────┤      │       ║ \n",
       "q_3: ┤0                                                ├──────X───────╫─\n",
       "     │  Initialize(-0.22545,-0.41978,0.10847,-0.87246) │              ║ \n",
       "q_4: ┤1                                                ├──────────────╫─\n",
       "     └─────────────────────────────────────────────────┘              ║ \n",
       "c: 1/═════════════════════════════════════════════════════════════════╩═\n",
       "                                                                      0 </pre>"
      ],
      "text/plain": [
       "                     ┌─────────────────┐                ┌───┐   ┌───┐┌─┐\n",
       "q_0: ────────────────┤ Initialize(1,0) ├────────────────┤ H ├─■─┤ H ├┤M├\n",
       "     ┌───────────────┴─────────────────┴───────────────┐└───┘ │ └───┘└╥┘\n",
       "q_1: ┤0                                                ├──────X───────╫─\n",
       "     │  Initialize(-0.22545,-0.41978,0.10847,-0.87246) │      │       ║ \n",
       "q_2: ┤1                                                ├──────┼───────╫─\n",
       "     ├─────────────────────────────────────────────────┤      │       ║ \n",
       "q_3: ┤0                                                ├──────X───────╫─\n",
       "     │  Initialize(-0.22545,-0.41978,0.10847,-0.87246) │              ║ \n",
       "q_4: ┤1                                                ├──────────────╫─\n",
       "     └─────────────────────────────────────────────────┘              ║ \n",
       "c: 1/═════════════════════════════════════════════════════════════════╩═\n",
       "                                                                      0 "
      ]
     },
     "execution_count": 80,
     "metadata": {},
     "output_type": "execute_result"
    }
   ],
   "source": [
    "from qiskit import QuantumCircuit, execute, Aer, assemble\n",
    "\n",
    "circ = QuantumCircuit(5, 1)\n",
    "circ.initialize([1,0], (0,))\n",
    "circ.initialize(psi, (1,2))\n",
    "circ.initialize(psi, (3,4))\n",
    "circ.h(0)\n",
    "circ.cswap(0,1,3)\n",
    "circ.h(0)\n",
    "circ.measure(0,0)\n",
    "circ.draw()"
   ]
  },
  {
   "cell_type": "code",
   "execution_count": 81,
   "id": "7b3b2e62",
   "metadata": {},
   "outputs": [
    {
     "name": "stdout",
     "output_type": "stream",
     "text": [
      "{'0': 9412783, '1': 587217}\n"
     ]
    }
   ],
   "source": [
    "# Tell Qiskit how to simulate our circuit\n",
    "sim = Aer.get_backend('aer_simulator')\n",
    "# Tell simulator to save statevector\n",
    "circ.save_statevector()\n",
    "# Create a Qobj from the circuit for the simulator to run\n",
    "qobj = assemble(circ)\n",
    "counts = sim.run(qobj, shots=1e+7).result().get_counts()\n",
    "print(counts)"
   ]
  },
  {
   "cell_type": "markdown",
   "id": "b83b161b",
   "metadata": {},
   "source": [
    "<font size=4>\n",
    "Step 4. Transform the purity to eigenvalues."
   ]
  },
  {
   "cell_type": "code",
   "execution_count": 82,
   "id": "8d3f0440",
   "metadata": {},
   "outputs": [
    {
     "name": "stdout",
     "output_type": "stream",
     "text": [
      "The eigenvalues obtained by the quantum PCA are \n",
      " [1.572772746964541, 0.10511327208307823]\n"
     ]
    }
   ],
   "source": [
    "purity = (counts['0'] - counts['1']) / (counts['0'] + counts['1'])\n",
    "m_1 = (1 + np.sqrt(2 * purity - 1)) / 2 * np.trace(M)\n",
    "m_2 = (1 - np.sqrt(2 * purity - 1)) / 2 * np.trace(M)\n",
    "print('The eigenvalues obtained by the quantum PCA are \\n', [m_1, m_2])"
   ]
  },
  {
   "cell_type": "code",
   "execution_count": 83,
   "id": "609e0b54",
   "metadata": {},
   "outputs": [
    {
     "name": "stdout",
     "output_type": "stream",
     "text": [
      "The eigenvalues obtained by classical diagonalization are \n",
      " [1.57285742 0.1050286 ]\n"
     ]
    }
   ],
   "source": [
    "m, vec = np.linalg.eig(M)\n",
    "idx = m.argsort()[::-1]\n",
    "m = m[idx]\n",
    "vec = vec[:,idx]\n",
    "print('The eigenvalues obtained by classical diagonalization are \\n', m)"
   ]
  },
  {
   "cell_type": "markdown",
   "id": "798b96fb",
   "metadata": {},
   "source": [
    "<font size=4>\n",
    "Therefore, we can see that within the allowed margin of random error, the quantum circuit simulation gives the same result as the classical diagonalization."
   ]
  }
 ],
 "metadata": {
  "kernelspec": {
   "display_name": "Python 3",
   "language": "python",
   "name": "python3"
  },
  "language_info": {
   "codemirror_mode": {
    "name": "ipython",
    "version": 3
   },
   "file_extension": ".py",
   "mimetype": "text/x-python",
   "name": "python",
   "nbconvert_exporter": "python",
   "pygments_lexer": "ipython3",
   "version": "3.6.4"
  }
 },
 "nbformat": 4,
 "nbformat_minor": 5
}
